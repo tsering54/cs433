{
 "cells": [
  {
   "cell_type": "markdown",
   "metadata": {},
   "source": [
    "1. Include a section with your name\n",
    "2. Create matrix A with size (3,5) containing random numbers \n",
    "3. Find the size and length of matrix A\n",
    "4. Resize (crop/slice) matrix A to size (3,4)\n",
    "5. Find the transpose of matrix A and assign it to B\n",
    "6. Find the minimum value in column 1 of matrix B\n",
    "7. Find the minimum and maximum values for the entire matrix A\n",
    "8. Create vector X (an array) with 4 random numbers\n",
    "9. Create a function and pass vector X and matrix A in it\n",
    "10. In the new function multiply vector X with matrix A and assign the result to D \n",
    "(note: you may get an error! … think why and fix it. Recall matric manipulation in class!)\n",
    "11. Create a complex number Z with absolute and real parts != 0\n",
    "12. Show its real and imaginary parts as well as it’s absolute value\n",
    "13. Multiply result D with the absolute value of Z and record it to C\n",
    "14. Convert matrix B from a matrix to a string and overwrite B\n",
    "15. Display a text on the screen: ‘Name is done with HW2‘, but pass your ‘Name’ as a string variable\n",
    "16. Organize your code: use each line from this assignment as a comment line before each step\n",
    "17. Save all steps as a script in a .py file\n",
    "18. Email your Github link to me including your .py file + screenshots of y\n"
   ]
  },
  {
   "cell_type": "markdown",
   "metadata": {},
   "source": [
    "Tsering Dolkar\n",
    "comscix433.3-0.18 "
   ]
  },
  {
   "cell_type": "code",
   "execution_count": 11,
   "metadata": {},
   "outputs": [
    {
     "name": "stdout",
     "output_type": "stream",
     "text": [
      "[[0.14717931 0.67982931 0.26392926 0.67633166]\n",
      " [0.13246221 0.80735487 0.30520596 0.9795158 ]\n",
      " [0.7041894  0.07188602 0.20025288 0.79776955]]\n",
      "d [[1.08862846 1.35120421 0.78561224]]\n",
      "complex z (1-2j)\n",
      "['0.14717931382578742', '0.13246220617734972', '0.7041893995247639', '0.6798293075167013', '0.8073548714809886', '0.07188602348282647', '0.2639292645452812', '0.3052059629789047', '0.200252880679755', '0.6763316649173459', '0.9795157986378347', '0.7977695538805887']\n",
      "Tsering is done with HW2\n"
     ]
    }
   ],
   "source": [
    "import numpy as np\n",
    "from numpy import matrix as mx, random as rnd\n",
    "\n",
    "#2\n",
    "A = np.array(rnd.random([3,5]))\n",
    "#print(A)\n",
    "\n",
    "#3\n",
    "A.shape\n",
    "\n",
    "#4\n",
    "A = A[:, 0:4]\n",
    "print(A)\n",
    "\n",
    "#5\n",
    "B = A.T\n",
    "#print('B',B)\n",
    "\n",
    "#6 min value of col1 in B\n",
    "min_c1 = B[:,0].min()\n",
    "#print('min in col1',min_c1)\n",
    "\n",
    "#7 min and max value of matrix A\n",
    "min_a = A.min()\n",
    "max_a = A.max()\n",
    "#print('min', min_a)\n",
    "#print('max', max_a)\n",
    "\n",
    "#8 create vector X (an array) with 4 random numbers\n",
    "X = np.array(rnd.random(4))\n",
    "#print('vector', X)\n",
    "\n",
    "#9&10 func with matrix A and vector X as args\n",
    "def funct(vector_x, matrix_a):\n",
    "    return np.dot(vector_x, matrix_a.T)\n",
    "\n",
    "D = funct(mx(X), A)\n",
    "print('d', D)\n",
    "\n",
    "#11&12 Create a complex number Z with absolute and real parts != 0\n",
    "\n",
    "Z = complex(1, -2)\n",
    "print('complex z', Z)\n",
    "\n",
    "#13 Multiply result D with the absolute value of Z and record it to C\n",
    "C = D * Z\n",
    "\n",
    "#print('c',C)\n",
    "\n",
    "\n",
    "#14 Convert matrix B from a matrix to a string and overwrite B\n",
    "#convert matrix to 1x1 list and then to a string\n",
    "#print(B.shape)\n",
    "B.reshape(-1)\n",
    "#print(len(B))\n",
    "#print(B)\n",
    "res = []\n",
    "\n",
    "for i in range(len(B)):\n",
    "    for j in B[i]:\n",
    "        res.append(str(j))\n",
    "        \n",
    "print(res)\n",
    "\n",
    "\n",
    "#15 Display a text on the screen: ‘Name is done with HW2‘, \n",
    "#but pass your ‘Name’ as a string variable\n",
    "name='Tsering'\n",
    "print(name, 'is done with HW2')\n",
    "\n"
   ]
  },
  {
   "cell_type": "code",
   "execution_count": null,
   "metadata": {},
   "outputs": [],
   "source": []
  },
  {
   "cell_type": "code",
   "execution_count": null,
   "metadata": {},
   "outputs": [],
   "source": []
  },
  {
   "cell_type": "code",
   "execution_count": null,
   "metadata": {},
   "outputs": [],
   "source": []
  }
 ],
 "metadata": {
  "kernelspec": {
   "display_name": "Python 3",
   "language": "python",
   "name": "python3"
  },
  "language_info": {
   "codemirror_mode": {
    "name": "ipython",
    "version": 3
   },
   "file_extension": ".py",
   "mimetype": "text/x-python",
   "name": "python",
   "nbconvert_exporter": "python",
   "pygments_lexer": "ipython3",
   "version": "3.9.2+"
  }
 },
 "nbformat": 4,
 "nbformat_minor": 2
}
